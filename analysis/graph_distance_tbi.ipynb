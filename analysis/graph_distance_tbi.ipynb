{
 "cells": [
  {
   "cell_type": "code",
   "execution_count": 84,
   "metadata": {},
   "outputs": [
    {
     "name": "stdout",
     "output_type": "stream",
     "text": [
      "/home/sherry/anaconda3/envs/graph/bin/python\n"
     ]
    }
   ],
   "source": [
    "import sys\n",
    "print(sys.executable)"
   ]
  },
  {
   "cell_type": "code",
   "execution_count": 85,
   "metadata": {},
   "outputs": [],
   "source": [
    "import os\n",
    "import numpy as np\n",
    "import matplotlib.pyplot as plt\n",
    "import pandas as pd\n",
    "from nilearn.connectome import ConnectivityMeasure\n",
    "from nilearn import plotting\n",
    "from nilearn import plotting\n",
    "from openpyxl import load_workbook\n",
    "import networkx as nx\n",
    "import itertools\n",
    "import gmatch4py as gm\n",
    "from sklearn.cluster import SpectralClustering\n",
    "import seaborn as sns\n",
    "from MulticoreTSNE import MulticoreTSNE as TSNE\n",
    "from scipy import stats\n",
    "from sklearn import decomposition\n",
    "from scipy import stats\n",
    "from scipy.spatial import distance"
   ]
  },
  {
   "cell_type": "code",
   "execution_count": 86,
   "metadata": {},
   "outputs": [],
   "source": [
    "DATA_PATH = '/home/sherry/Dropbox/PhD/Data/TBI/TBI_Connectomes_wSubcort'\n",
    "N_NODE = 116"
   ]
  },
  {
   "cell_type": "code",
   "execution_count": 106,
   "metadata": {
    "scrolled": false
   },
   "outputs": [
    {
     "data": {
      "text/html": [
       "<div>\n",
       "<style scoped>\n",
       "    .dataframe tbody tr th:only-of-type {\n",
       "        vertical-align: middle;\n",
       "    }\n",
       "\n",
       "    .dataframe tbody tr th {\n",
       "        vertical-align: top;\n",
       "    }\n",
       "\n",
       "    .dataframe thead th {\n",
       "        text-align: right;\n",
       "    }\n",
       "</style>\n",
       "<table border=\"1\" class=\"dataframe\">\n",
       "  <thead>\n",
       "    <tr style=\"text-align: right;\">\n",
       "      <th></th>\n",
       "      <th>Subject</th>\n",
       "      <th>DX_Group</th>\n",
       "      <th>Filelist</th>\n",
       "    </tr>\n",
       "  </thead>\n",
       "  <tbody>\n",
       "    <tr>\n",
       "      <td>0</td>\n",
       "      <td>p065</td>\n",
       "      <td>1</td>\n",
       "      <td>[DTI_det_10M_nonnormalized_216_raw_s1.txt, DTI...</td>\n",
       "    </tr>\n",
       "    <tr>\n",
       "      <td>1</td>\n",
       "      <td>p027</td>\n",
       "      <td>1</td>\n",
       "      <td>[DTI_det_10M_nonnormalized_216_raw_s1.txt, DTI...</td>\n",
       "    </tr>\n",
       "    <tr>\n",
       "      <td>2</td>\n",
       "      <td>c020</td>\n",
       "      <td>0</td>\n",
       "      <td>[DTI_det_10M_nonnormalized_216_raw_s1.txt, DTI...</td>\n",
       "    </tr>\n",
       "    <tr>\n",
       "      <td>3</td>\n",
       "      <td>c034</td>\n",
       "      <td>0</td>\n",
       "      <td>[DTI_det_10M_nonnormalized_216_raw_s1.txt, DTI...</td>\n",
       "    </tr>\n",
       "    <tr>\n",
       "      <td>4</td>\n",
       "      <td>c017</td>\n",
       "      <td>0</td>\n",
       "      <td>[DTI_det_10M_nonnormalized_216_raw_s1.txt, DTI...</td>\n",
       "    </tr>\n",
       "    <tr>\n",
       "      <td>...</td>\n",
       "      <td>...</td>\n",
       "      <td>...</td>\n",
       "      <td>...</td>\n",
       "    </tr>\n",
       "    <tr>\n",
       "      <td>73</td>\n",
       "      <td>c028</td>\n",
       "      <td>0</td>\n",
       "      <td>[DTI_det_10M_nonnormalized_216_raw_s1.txt, DTI...</td>\n",
       "    </tr>\n",
       "    <tr>\n",
       "      <td>74</td>\n",
       "      <td>c038</td>\n",
       "      <td>0</td>\n",
       "      <td>[DTI_det_10M_nonnormalized_216_raw_s1.txt, DTI...</td>\n",
       "    </tr>\n",
       "    <tr>\n",
       "      <td>75</td>\n",
       "      <td>c015</td>\n",
       "      <td>0</td>\n",
       "      <td>[DTI_det_10M_nonnormalized_216_raw_s1.txt, DTI...</td>\n",
       "    </tr>\n",
       "    <tr>\n",
       "      <td>76</td>\n",
       "      <td>p012</td>\n",
       "      <td>1</td>\n",
       "      <td>[DTI_det_10M_nonnormalized_216_raw_s1.txt, DTI...</td>\n",
       "    </tr>\n",
       "    <tr>\n",
       "      <td>77</td>\n",
       "      <td>c031</td>\n",
       "      <td>0</td>\n",
       "      <td>[DTI_det_10M_nonnormalized_216_raw_s1.txt, DTI...</td>\n",
       "    </tr>\n",
       "  </tbody>\n",
       "</table>\n",
       "<p>78 rows × 3 columns</p>\n",
       "</div>"
      ],
      "text/plain": [
       "   Subject  DX_Group                                           Filelist\n",
       "0     p065         1  [DTI_det_10M_nonnormalized_216_raw_s1.txt, DTI...\n",
       "1     p027         1  [DTI_det_10M_nonnormalized_216_raw_s1.txt, DTI...\n",
       "2     c020         0  [DTI_det_10M_nonnormalized_216_raw_s1.txt, DTI...\n",
       "3     c034         0  [DTI_det_10M_nonnormalized_216_raw_s1.txt, DTI...\n",
       "4     c017         0  [DTI_det_10M_nonnormalized_216_raw_s1.txt, DTI...\n",
       "..     ...       ...                                                ...\n",
       "73    c028         0  [DTI_det_10M_nonnormalized_216_raw_s1.txt, DTI...\n",
       "74    c038         0  [DTI_det_10M_nonnormalized_216_raw_s1.txt, DTI...\n",
       "75    c015         0  [DTI_det_10M_nonnormalized_216_raw_s1.txt, DTI...\n",
       "76    p012         1  [DTI_det_10M_nonnormalized_216_raw_s1.txt, DTI...\n",
       "77    c031         0  [DTI_det_10M_nonnormalized_216_raw_s1.txt, DTI...\n",
       "\n",
       "[78 rows x 3 columns]"
      ]
     },
     "execution_count": 106,
     "metadata": {},
     "output_type": "execute_result"
    }
   ],
   "source": [
    "subj_list = [x for x in os.listdir(DATA_PATH) if os.path.isdir(os.path.join(DATA_PATH, x))]\n",
    "#subj_list = np.loadtxt(os.path.join(DATA_PATH, 'IntersectionList.txt'), dtype=str)\n",
    "label_list = [0 if x.startswith('c') else 1 for x in subj_list]\n",
    "file_list = [os.listdir(os.path.join(DATA_PATH, subj)) for subj in subj_list]\n",
    "df = pd.DataFrame({'Subject':subj_list, 'DX_Group':label_list, 'Filelist':file_list})\n",
    "df"
   ]
  },
  {
   "cell_type": "code",
   "execution_count": 7,
   "metadata": {},
   "outputs": [],
   "source": [
    "conn_dict = {}\n",
    "for subj in subj_list:\n",
    "    filelist = [x for x in df[df['Subject']==subj]['Filelist'].tolist()[0] if str(N_NODE) in x.split('_')]\n",
    "    filelist.sort()\n",
    "    filepath = os.path.join(DATA_PATH, subj, filelist[0])\n",
    "    conn_dict[subj] = np.loadtxt(filepath)"
   ]
  },
  {
   "cell_type": "code",
   "execution_count": 8,
   "metadata": {},
   "outputs": [],
   "source": [
    "subj_list.remove('p021')"
   ]
  },
  {
   "cell_type": "code",
   "execution_count": 9,
   "metadata": {},
   "outputs": [
    {
     "name": "stdout",
     "output_type": "stream",
     "text": [
      "Create graphs...\n",
      "Compute edit distance...\n"
     ]
    }
   ],
   "source": [
    "'''\n",
    "def edge_subst_cost(e1, e2):\n",
    "    return abs(e1['weight'] - e2['weight']) / (abs(e1['weight']) + abs(e2['weight']))\n",
    "\n",
    "\n",
    "ged1 = np.zeros((len(subj_list), len(subj_list)))\n",
    "for i in range(len(subj_list[0:1])):\n",
    "    for j in range(i+1, len(subj_list[0:2])):\n",
    "        G1 = nx.from_numpy_array(conn_dict[subj_list[i]]['sconn'][0])\n",
    "        G2 = nx.from_numpy_array(conn_dict[subj_list[j]]['sconn'][0])\n",
    "        for v in nx.optimize_graph_edit_distance(G1, G2, node_match=None, edge_match=None,\n",
    "                                           node_subst_cost=None, node_del_cost=None, node_ins_cost=None,\n",
    "                                           edge_subst_cost=, edge_del_cost=None, edge_ins_cost=None,\n",
    "                                           upper_bound=None):\n",
    "            ged1[i,j] = v\n",
    "'''\n",
    "\n",
    "# graph edit distance for structural connectivity\n",
    "# node deletion & addition cost is 1, node substisution cost is 0 (node attributes are not considered)\n",
    "# edge deletion & addition cost is 1\n",
    "\n",
    "print('Create graphs...')\n",
    "Glist = []\n",
    "for subj in subj_list:\n",
    "    Glist.append(nx.from_numpy_array(conn_dict[subj]))\n",
    "\n",
    "print('Compute edit distance...')\n",
    "ged_fun = gm.GraphEditDistance(1,1,1,1)\n",
    "ged_pc = ged_fun.compare(Glist,None)\n",
    "ged_pc_sim = ged_fun.similarity(ged_pc)"
   ]
  },
  {
   "cell_type": "code",
   "execution_count": 10,
   "metadata": {},
   "outputs": [
    {
     "name": "stdout",
     "output_type": "stream",
     "text": [
      "[[1.         0.05172414 0.01724138 ... 0.02586207 0.02586207 0.06034483]\n",
      " [0.05172414 1.         0.         ... 0.02586207 0.03448276 0.01724138]\n",
      " [0.01724138 0.         1.         ... 0.01724138 0.05172414 0.07758621]\n",
      " ...\n",
      " [0.02586207 0.02586207 0.01724138 ... 1.         0.06896552 0.03448276]\n",
      " [0.02586207 0.03448276 0.05172414 ... 0.06896552 1.         0.04310345]\n",
      " [0.06034483 0.01724138 0.07758621 ... 0.03448276 0.04310345 1.        ]]\n"
     ]
    }
   ],
   "source": [
    "print(ged_pc_sim)\n",
    "np.savetxt('graph_distance_TBI.txt', ged_pc_sim)"
   ]
  },
  {
   "cell_type": "code",
   "execution_count": 31,
   "metadata": {},
   "outputs": [],
   "source": [
    "#ged_pc_sim = np.loadtxt('graph_distance_TBI.txt')"
   ]
  },
  {
   "cell_type": "code",
   "execution_count": 11,
   "metadata": {},
   "outputs": [
    {
     "data": {
      "text/plain": [
       "<matplotlib.axes._subplots.AxesSubplot at 0x7f36d42e5f90>"
      ]
     },
     "execution_count": 11,
     "metadata": {},
     "output_type": "execute_result"
    },
    {
     "data": {
      "image/png": "[encoded data removed]",
      "text/plain": [
       "<Figure size 432x288 with 2 Axes>"
      ]
     },
     "metadata": {
      "needs_background": "light"
     },
     "output_type": "display_data"
    }
   ],
   "source": [
    "sns.heatmap(ged_pc_sim)"
   ]
  },
  {
   "cell_type": "code",
   "execution_count": 12,
   "metadata": {
    "scrolled": true
   },
   "outputs": [
    {
     "name": "stdout",
     "output_type": "stream",
     "text": [
      "[1 1 0 1 1 0 0 0 1 0 0 0 1 1 0 1 0 0 1 0 0 0 0 0 1 1 1 1 0 0 0 1 1 1 1 0 0\n",
      " 0 0 1 1 1 1 1 1 1 0 0 0 1 0 1 1 0 1 1 1 0 0 1 0 0 1 0 0 1 1 0 0 1 1 1 1 1\n",
      " 1 1 0]\n"
     ]
    },
    {
     "name": "stderr",
     "output_type": "stream",
     "text": [
      "/home/sherry/anaconda3/envs/graph/lib/python3.7/site-packages/sklearn/cluster/spectral.py:462: UserWarning: The spectral clustering API has changed. ``fit``now constructs an affinity matrix from data. To use a custom affinity matrix, set ``affinity=precomputed``.\n",
      "  warnings.warn(\"The spectral clustering API has changed. ``fit``\"\n"
     ]
    }
   ],
   "source": [
    "clustering = SpectralClustering(n_clusters=2, assign_labels=\"discretize\", random_state=0).fit(ged_pc_sim)\n",
    "print(clustering.labels_)"
   ]
  },
  {
   "cell_type": "code",
   "execution_count": 13,
   "metadata": {},
   "outputs": [
    {
     "name": "stdout",
     "output_type": "stream",
     "text": [
      "(77, 2)\n"
     ]
    }
   ],
   "source": [
    "pca = decomposition.PCA(n_components=2).fit(ged_pc_sim)\n",
    "embeddings_pca = pca.transform(ged_pc_sim)\n",
    "print(embeddings_pca.shape)"
   ]
  },
  {
   "cell_type": "code",
   "execution_count": 14,
   "metadata": {},
   "outputs": [
    {
     "name": "stdout",
     "output_type": "stream",
     "text": [
      "(77, 2)\n"
     ]
    }
   ],
   "source": [
    "embeddings = TSNE(n_components=2, n_jobs=8).fit_transform(ged_pc)\n",
    "print(embeddings.shape)"
   ]
  },
  {
   "cell_type": "code",
   "execution_count": 34,
   "metadata": {},
   "outputs": [
    {
     "name": "stdout",
     "output_type": "stream",
     "text": [
      "[1, 1, 0, 0, 0, 1, 1, 1, 1, 0, 0, 1, 1, 1, 1, 0, 1, 1, 0, 1, 1, 0, 1, 1, 1, 1, 0, 0, 0, 0, 1, 0, 0, 1, 0, 0, 1, 1, 0, 1, 0, 0, 0, 1, 0, 1, 1, 1, 1, 0, 1, 1, 0, 0, 1, 0, 0, 1, 1, 0, 1, 1, 0, 1, 1, 0, 1, 1, 1, 1, 0, 0, 0, 0, 0, 1, 0]\n"
     ]
    }
   ],
   "source": [
    "df = df.set_index('Subject')\n",
    "gt_label = list(df.loc[subj_list]['DX_Group'])\n",
    "df = df.reset_index()\n",
    "print(gt_label)"
   ]
  },
  {
   "cell_type": "code",
   "execution_count": 42,
   "metadata": {},
   "outputs": [],
   "source": [
    "ged_label = pd.DataFrame({'Subject': subj_list,\n",
    "                          'GEDLabel': clustering.labels_,\n",
    "                          'GTLabel': gt_label,\n",
    "                          'TSNE1': list(embeddings[:, 0]),\n",
    "                          'TSNE2': list(embeddings[:, 1]),\n",
    "                          'PCA1': list(embeddings_pca[:, 0]),\n",
    "                          'PCA2': list(embeddings_pca[:, 1])})\n",
    "df_ged = df.merge(ged_label, on='Subject') \n",
    "df_ged['GEDLabel'] = 1 - df_ged['GEDLabel']"
   ]
  },
  {
   "cell_type": "code",
   "execution_count": 43,
   "metadata": {},
   "outputs": [
    {
     "data": {
      "text/plain": [
       "<matplotlib.axes._subplots.AxesSubplot at 0x7f36cd24f6d0>"
      ]
     },
     "execution_count": 43,
     "metadata": {},
     "output_type": "execute_result"
    },
    {
     "data": {
      "image/png": "[encoded data removed]",
      "text/plain": [
       "<Figure size 432x288 with 1 Axes>"
      ]
     },
     "metadata": {
      "needs_background": "light"
     },
     "output_type": "display_data"
    }
   ],
   "source": [
    "plt.figure(figsize=(6, 4))\n",
    "sns.scatterplot(x='PCA1', y='PCA2', data=df_ged, hue=df_ged['DX_Group'])"
   ]
  },
  {
   "cell_type": "code",
   "execution_count": 44,
   "metadata": {},
   "outputs": [
    {
     "data": {
      "text/plain": [
       "<matplotlib.legend.Legend at 0x7f36cd6fa690>"
      ]
     },
     "execution_count": 44,
     "metadata": {},
     "output_type": "execute_result"
    },
    {
     "data": {
      "image/png": "[encoded data removed]",
      "text/plain": [
       "<Figure size 864x288 with 2 Axes>"
      ]
     },
     "metadata": {
      "needs_background": "light"
     },
     "output_type": "display_data"
    }
   ],
   "source": [
    "plt.figure(figsize=(12, 4))\n",
    "plt.subplot(1,2,1)\n",
    "sns.distplot(df_ged[df_ged['GTLabel'] == 0]['PCA1'], kde=True, label='group0')\n",
    "sns.distplot(df_ged[df_ged['GTLabel'] == 1]['PCA1'], kde=True, label='group1')\n",
    "plt.legend()\n",
    "plt.subplot(1,2,2)\n",
    "sns.distplot(df_ged[df_ged['GEDLabel'] == 0]['PCA2'], kde=True, label='group0')\n",
    "sns.distplot(df_ged[df_ged['GEDLabel'] == 1]['PCA2'], kde=True, label='group1')\n",
    "plt.legend()"
   ]
  },
  {
   "cell_type": "code",
   "execution_count": 45,
   "metadata": {},
   "outputs": [
    {
     "name": "stdout",
     "output_type": "stream",
     "text": [
      "0.6623376623376623\n"
     ]
    }
   ],
   "source": [
    "accuracy = (df_ged['GEDLabel'] == df_ged['GTLabel']).sum()/len(df_ged)\n",
    "print(accuracy)"
   ]
  },
  {
   "cell_type": "code",
   "execution_count": 56,
   "metadata": {},
   "outputs": [],
   "source": [
    "class distance_FC(object):\n",
    "    def __init__(self, FC1, FC2, eig_thresh=10**(-3)):\n",
    "        self.FC1 = FC1\n",
    "        self.FC2 = FC2\n",
    "        self.eig_thresh = eig_thresh\n",
    "\n",
    "        # ensure symmetric\n",
    "        self.FC1 = self._ensure_symmetric(self.FC1)\n",
    "        self.FC2 = self._ensure_symmetric(self.FC2)\n",
    "\n",
    "    def _ensure_symmetric(self, Q):\n",
    "        '''\n",
    "        computation is sometimes not precise (round errors),\n",
    "        so ensure matrices that are supposed to be\n",
    "        symmetric are symmetric\n",
    "        '''\n",
    "        return (Q + np.transpose(Q))/2\n",
    "\n",
    "    def _vectorize(self, Q):\n",
    "        '''\n",
    "        given a symmetric matrix (FC), return unique\n",
    "        elements as an array. Ignore diagonal elements\n",
    "        '''\n",
    "        # extract lower triangular matrix\n",
    "        tri = np.tril(Q, -1)\n",
    "\n",
    "        vec = []\n",
    "        for ii in range(1, tri.shape[0]):\n",
    "            for jj in range(ii):\n",
    "                vec.append(tri[ii, jj])\n",
    "        \n",
    "        return np.asarray(vec)\n",
    "\n",
    "    def geodesic(self):\n",
    "        '''\n",
    "        dist = sqrt(trace(log^2(M)))\n",
    "        M = Q_1^{-1/2}*Q_2*Q_1^{-1/2}\n",
    "        '''\n",
    "        # compute Q_1^{-1/2} via eigen value decmposition\n",
    "        u, s, _ = np.linag.svd(self.FC1, full_matrices=True)\n",
    "\n",
    "        ## lift very small eigen values\n",
    "        for ii, s_ii in enumerate(s):\n",
    "            if s_ii < self.eig_thresh:\n",
    "                s[ii] = self.eig_thresh\n",
    "\n",
    "        '''\n",
    "        since FC1 is in S+, u = v, u^{-1} = u'\n",
    "        FC1 = usu^(-1)\n",
    "        FC1^{1/2} = u[s^{1/2}]u'\n",
    "        FC1^{-1/2} = u[s^{-1/2}]u'\n",
    "        '''\n",
    "        FC1_mod = u @ np.diag(s**(-1/2)) @ np.transpose(u)\n",
    "        M = FC1_mod @ self.FC2 @ FC1_mod\n",
    "\n",
    "        '''\n",
    "        trace = sum of eigenvalues;\n",
    "        np.logm might have round errors,\n",
    "        implement using svd instead\n",
    "        '''\n",
    "        _, s, _ = np.linag.svd(M, full_matrices=True)\n",
    "\n",
    "        return np.sqrt(np.sum(np.log(s)**2))\n",
    "\n",
    "    def pearson(self):\n",
    "        '''\n",
    "        conventional Pearson distance between\n",
    "        two FC matrices. The matrices are vectorized\n",
    "        '''\n",
    "        vec1 = self._vectorize(self.FC1)\n",
    "        vec2 = self._vectorize(self.FC2)\n",
    "\n",
    "        corr, p = stats.pearsonr(vec1, vec2)\n",
    "        return (1 - corr)/2, p\n",
    "\n",
    "    def spearman(self):\n",
    "        '''\n",
    "        Spearman distance between\n",
    "        two FC matrices. The matrices are vectorized\n",
    "        '''\n",
    "        vec1 = self._vectorize(self.FC1)\n",
    "        vec2 = self._vectorize(self.FC2)\n",
    "\n",
    "        corr, p = stats.spearmanr(vec1, vec2)\n",
    "        return (1 - corr)/2, p\n",
    "\n",
    "    def euclidean(self):\n",
    "        '''\n",
    "        Euclidean distance between\n",
    "        two FC matrices. The matrices are vectorized\n",
    "        '''\n",
    "        vec1 = self._vectorize(self.FC1)\n",
    "        vec2 = self._vectorize(self.FC2)\n",
    "        return distance.euclidean(vec1, vec2)\n",
    "\n",
    "    def canberra(self):\n",
    "        '''\n",
    "        Euclidean distance between\n",
    "        two FC matrices. The matrices are vectorized\n",
    "        '''\n",
    "        vec1 = self._vectorize(self.FC1)\n",
    "        vec2 = self._vectorize(self.FC2)\n",
    "        return distance.canberra(vec1, vec2)"
   ]
  },
  {
   "cell_type": "code",
   "execution_count": 57,
   "metadata": {},
   "outputs": [],
   "source": [
    "ged_pc_dist = 1 - ged_pc_sim"
   ]
  },
  {
   "cell_type": "code",
   "execution_count": 58,
   "metadata": {},
   "outputs": [],
   "source": [
    "df_ged = df_ged.reset_index()\n",
    "df_ged = df_ged.set_index('Subject')\n",
    "ged_pc = []\n",
    "ged_pp = []\n",
    "ged_cc = []\n",
    "\n",
    "edist_pc = []\n",
    "edist_pp = []\n",
    "edist_cc = []\n",
    "\n",
    "cdist_pc = []\n",
    "cdist_pp = []\n",
    "cdist_cc = []\n",
    "\n",
    "pdist_pc = []\n",
    "pdist_pp = []\n",
    "pdist_cc = []\n",
    "ppval_pc = []\n",
    "ppval_pp = []\n",
    "ppval_cc = []\n",
    "\n",
    "sdist_pc = []\n",
    "sdist_pp = []\n",
    "sdist_cc = []\n",
    "spval_pc = []\n",
    "spval_pp = []\n",
    "spval_cc = []\n",
    "\n",
    "for i in range(len(subj_list)):\n",
    "    for j in range(i+1, len(subj_list)):\n",
    "        isubj = subj_list[i]\n",
    "        jsubj = subj_list[j]\n",
    "        iflag = df_ged.loc[isubj]['DX_Group']\n",
    "        jflag = df_ged.loc[jsubj]['DX_Group']\n",
    "        iconn = conn_dict[isubj]\n",
    "        jconn = conn_dict[jsubj]\n",
    "        dist_req = distance_FC(iconn, jconn)\n",
    "        pdist, ppval = dist_req.pearson()\n",
    "        sdist, spval = dist_req.spearman()\n",
    "        edist = dist_req.euclidean()\n",
    "        cdist = dist_req.canberra()\n",
    "        if iflag==1 and jflag==1:\n",
    "            ged_pp.append(ged_pc_dist[i,j])\n",
    "            pdist_pp.append(pdist)\n",
    "            ppval_pp.append(ppval)\n",
    "            sdist_pp.append(sdist)\n",
    "            spval_pp.append(spval)\n",
    "            edist_pp.append(edist)\n",
    "            cdist_pp.append(cdist)\n",
    "        elif iflag==0 and jflag==0:\n",
    "            ged_cc.append(ged_pc_dist[i,j])\n",
    "            pdist_cc.append(pdist)\n",
    "            ppval_cc.append(ppval)\n",
    "            sdist_cc.append(sdist)\n",
    "            spval_cc.append(spval)\n",
    "            edist_cc.append(edist)\n",
    "            cdist_cc.append(cdist)\n",
    "        else:\n",
    "            ged_pc.append(ged_pc_dist[i,j])\n",
    "            pdist_pc.append(pdist)\n",
    "            ppval_pc.append(ppval)\n",
    "            sdist_pc.append(sdist)\n",
    "            spval_pc.append(spval)\n",
    "            edist_pc.append(edist)\n",
    "            cdist_pc.append(cdist)"
   ]
  },
  {
   "cell_type": "code",
   "execution_count": 75,
   "metadata": {},
   "outputs": [],
   "source": [
    "df_dist = pd.DataFrame({'type': ['pc']*len(ged_pc)+['pp']*len(ged_pp)+['cc']*len(ged_cc),\n",
    "                        'GED': ged_pc+ged_pp+ged_cc,\n",
    "                        'EuclideanDist': edist_pc+edist_pp+edist_cc,\n",
    "                        'CanberraDist': cdist_pc+cdist_pp+cdist_cc,\n",
    "                        'PearsonDist': pdist_pc+pdist_pp+pdist_cc,\n",
    "                        'PearsonPval': ppval_pc+ppval_pp+ppval_cc,\n",
    "                        'SpearmanDist': sdist_pc+sdist_pp+sdist_cc,\n",
    "                        'SpearmanPval': spval_pc+spval_pp+spval_cc})\n",
    "df_dist['EuclideanDist'] = df_dist['EuclideanDist']/df_dist['EuclideanDist'].max()\n",
    "df_dist['CanberraDist'] = df_dist['CanberraDist']/df_dist['CanberraDist'].max()\n",
    "df_dist['PearsonDist'] = df_dist['PearsonDist']/df_dist['PearsonDist'].max()\n",
    "df_dist['SpearmanDist'] = df_dist['SpearmanDist']/df_dist['SpearmanDist'].max()\n",
    "\n",
    "columns = ['GED', 'EuclideanDist', 'CanberraDist', 'PearsonDist', 'SpearmanDist']\n",
    "tests = ['mean(pc)', 'mean(pp)', 'mean(cc)',\n",
    "         'std(pc)', 'std(pp)', 'std(cc)',\n",
    "         'Normality_stats(pc)', 'Normality_stats(pp)', 'Normality_stats(cc)',\n",
    "         'Normality_p(pc)', 'Normality_p(pp)', 'Normality_p(cc)',\n",
    "         'levene_stats(pc/pp)', 'levene_stats(pc/cc)', 'levene_stats(pp/cc)',\n",
    "         'levene(pc/pp)', 'levene(pc/cc)', 'levene(pp/cc)',\n",
    "         't-test_stats(pc/pp)', 't-test_stats(pc/cc)', 't-test_stats(pp/cc)',\n",
    "         't-test_p(pc/pp)', 't-test_p(pc/cc)', 't-test_p(pp/cc)',\n",
    "         't-test_es(pc/pp)', 't-test_es(pc/cc)', 't-test_es(pp/cc)',\n",
    "         'mannwhitneyu_stats(pc/pp)', 'mannwhitneyu_stats(pc/cc)', 'mannwhitneyu_stats(pp/cc)',\n",
    "         'mannwhitneyu_p(pc/pp)', 'mannwhitneyu_p(pc/cc)', 'mannwhitneyu_p(pp/cc)',\n",
    "         'mannwhitneyu_es(pc/pp)', 'mannwhitneyu_es(pc/cc)', 'mannwhitneyu_es(pp/cc)',\n",
    "         'ANOVA_stats', 'ANOVA_p']\n",
    "\n",
    "alpha = 0.01\n",
    "df_test = pd.DataFrame({'tests': tests})\n",
    "for column in columns:\n",
    "    g0 = df_dist[df_dist['type'] == 'pc'][column]\n",
    "    g1 = df_dist[df_dist['type'] == 'pp'][column]\n",
    "    g2 = df_dist[df_dist['type'] == 'cc'][column]\n",
    "\n",
    "    test_score_list = [np.mean(g0), np.mean(g1), np.mean(g2), np.std(g0), np.std(g1), np.std(g2)]\n",
    "\n",
    "    statistics0, p0 = stats.shapiro(g0)\n",
    "    statistics1, p1 = stats.shapiro(g1)\n",
    "    statistics2, p2 = stats.shapiro(g2)\n",
    "    test_score_list = test_score_list + [statistics0, statistics1, statistics2, p0, p1, p2]\n",
    "    \n",
    "    statistics0, p0 = stats.levene(g0, g1)\n",
    "    statistics1, p1 = stats.levene(g0, g2)\n",
    "    statistics2, p2 = stats.levene(g1, g2)\n",
    "    test_score_list = test_score_list + [statistics0, statistics1, statistics2, p0, p1, p2]\n",
    "\n",
    "    if p0 < alpha:\n",
    "        statistics0, p0 = stats.ttest_ind(g0, g1, equal_var=False)\n",
    "    else:\n",
    "        statistics0, p0 = stats.ttest_ind(g0, g1)\n",
    "    s_pooled=np.sqrt(((len(g0)-1)*np.var(g0)+(len(g1)-1)*np.var(g1))/float(len(g0)+len(g1)-2))\n",
    "    es0 = (np.mean(g0)-np.mean(g1))/s_pooled\n",
    "    \n",
    "    if p1 < alpha:\n",
    "        statistics1, p1 = stats.ttest_ind(g0, g2, equal_var=False)\n",
    "    else:\n",
    "        statistics1, p1 = stats.ttest_ind(g0, g2)\n",
    "    s_pooled=np.sqrt(((len(g0)-1)*np.var(g0)+(len(g2)-1)*np.var(g2))/float(len(g0)+len(g2)-2))\n",
    "    es1 = (np.mean(g0)-np.mean(g2))/s_pooled\n",
    "    \n",
    "    if p2 < alpha:\n",
    "        statistics2, p2 = stats.ttest_ind(g1, g2, equal_var=False)\n",
    "    else:\n",
    "        statistics2, p2 = stats.ttest_ind(g1, g2)\n",
    "    s_pooled=np.sqrt(((len(g1)-1)*np.var(g1)+(len(g2)-1)*np.var(g2))/float(len(g1)+len(g2)-2))\n",
    "    es2 = (np.mean(g1)-np.mean(g2))/s_pooled\n",
    "    \n",
    "    test_score_list = test_score_list + [statistics0, statistics1, statistics2, p0, p1, p2, es0, es1, es2]\n",
    "\n",
    "    statistics0, p0 = stats.mannwhitneyu(g0, g1, alternative='two-sided')\n",
    "    m_U = len(g0)*len(g1)/2.0\n",
    "    std_U = np.sqrt(len(g0)*len(g1)*(len(g0)+len(g1)+1)/12.0)\n",
    "    z = (statistics0 - m_U) / std_U\n",
    "    es0 = z / np.sqrt(len(g0)+len(g1))\n",
    "    \n",
    "    statistics1, p1 = stats.mannwhitneyu(g0, g2, alternative='two-sided')\n",
    "    m_U = len(g0)*len(g2)/2.0\n",
    "    std_U = np.sqrt(len(g0)*len(g2)*(len(g0)+len(g2)+1)/12.0)\n",
    "    z = (statistics1 - m_U) / std_U\n",
    "    es1 = z / np.sqrt(len(g0)+len(g2))\n",
    "    \n",
    "    statistics2, p2 = stats.mannwhitneyu(g1, g2, alternative='two-sided')\n",
    "    m_U = len(g1)*len(g2)/2.0\n",
    "    std_U = np.sqrt(len(g1)*len(g2)*(len(g1)+len(g2)+1)/12.0)\n",
    "    z = (statistics2 - m_U) / std_U\n",
    "    es2 = z / np.sqrt(len(g1)+len(g2))\n",
    "    \n",
    "    test_score_list = test_score_list + [statistics0, statistics1, statistics2, p0, p1, p2, es0, es1, es2]\n",
    "    \n",
    "    statistics, p = stats.f_oneway(g0, g1, g2)\n",
    "    test_score_list = test_score_list + [statistics, p]\n",
    "    \n",
    "    df_test[column] = test_score_list\n",
    "\n",
    "df_test = df_test.set_index('tests')"
   ]
  },
  {
   "cell_type": "code",
   "execution_count": 76,
   "metadata": {},
   "outputs": [
    {
     "data": {
      "text/html": [
       "<div>\n",
       "<style scoped>\n",
       "    .dataframe tbody tr th:only-of-type {\n",
       "        vertical-align: middle;\n",
       "    }\n",
       "\n",
       "    .dataframe tbody tr th {\n",
       "        vertical-align: top;\n",
       "    }\n",
       "\n",
       "    .dataframe thead th {\n",
       "        text-align: right;\n",
       "    }\n",
       "</style>\n",
       "<table border=\"1\" class=\"dataframe\">\n",
       "  <thead>\n",
       "    <tr style=\"text-align: right;\">\n",
       "      <th></th>\n",
       "      <th>GED</th>\n",
       "      <th>EuclideanDist</th>\n",
       "      <th>CanberraDist</th>\n",
       "      <th>PearsonDist</th>\n",
       "      <th>SpearmanDist</th>\n",
       "    </tr>\n",
       "    <tr>\n",
       "      <th>tests</th>\n",
       "      <th></th>\n",
       "      <th></th>\n",
       "      <th></th>\n",
       "      <th></th>\n",
       "      <th></th>\n",
       "    </tr>\n",
       "  </thead>\n",
       "  <tbody>\n",
       "    <tr>\n",
       "      <td>mean(pc)</td>\n",
       "      <td>0.965312</td>\n",
       "      <td>7.548754e-01</td>\n",
       "      <td>0.856129</td>\n",
       "      <td>6.637633e-01</td>\n",
       "      <td>7.570091e-01</td>\n",
       "    </tr>\n",
       "    <tr>\n",
       "      <td>mean(pp)</td>\n",
       "      <td>0.964346</td>\n",
       "      <td>7.755214e-01</td>\n",
       "      <td>0.852106</td>\n",
       "      <td>6.845760e-01</td>\n",
       "      <td>7.723106e-01</td>\n",
       "    </tr>\n",
       "    <tr>\n",
       "      <td>mean(cc)</td>\n",
       "      <td>0.961258</td>\n",
       "      <td>7.178270e-01</td>\n",
       "      <td>0.851019</td>\n",
       "      <td>6.141653e-01</td>\n",
       "      <td>7.209150e-01</td>\n",
       "    </tr>\n",
       "    <tr>\n",
       "      <td>std(pc)</td>\n",
       "      <td>0.017584</td>\n",
       "      <td>5.692029e-02</td>\n",
       "      <td>0.043405</td>\n",
       "      <td>8.279136e-02</td>\n",
       "      <td>6.011911e-02</td>\n",
       "    </tr>\n",
       "    <tr>\n",
       "      <td>std(pp)</td>\n",
       "      <td>0.017970</td>\n",
       "      <td>5.705367e-02</td>\n",
       "      <td>0.045287</td>\n",
       "      <td>8.222286e-02</td>\n",
       "      <td>5.838152e-02</td>\n",
       "    </tr>\n",
       "    <tr>\n",
       "      <td>std(cc)</td>\n",
       "      <td>0.017316</td>\n",
       "      <td>4.716109e-02</td>\n",
       "      <td>0.036998</td>\n",
       "      <td>6.646545e-02</td>\n",
       "      <td>4.834957e-02</td>\n",
       "    </tr>\n",
       "    <tr>\n",
       "      <td>mannwhitneyu_stats(pc/pp)</td>\n",
       "      <td>649377.500000</td>\n",
       "      <td>5.057660e+05</td>\n",
       "      <td>670139.000000</td>\n",
       "      <td>5.387410e+05</td>\n",
       "      <td>5.345830e+05</td>\n",
       "    </tr>\n",
       "    <tr>\n",
       "      <td>mannwhitneyu_stats(pc/cc)</td>\n",
       "      <td>495672.500000</td>\n",
       "      <td>6.020100e+05</td>\n",
       "      <td>460271.000000</td>\n",
       "      <td>5.933120e+05</td>\n",
       "      <td>5.897070e+05</td>\n",
       "    </tr>\n",
       "    <tr>\n",
       "      <td>mannwhitneyu_stats(pp/cc)</td>\n",
       "      <td>283496.000000</td>\n",
       "      <td>3.994730e+05</td>\n",
       "      <td>253170.000000</td>\n",
       "      <td>3.831960e+05</td>\n",
       "      <td>3.842290e+05</td>\n",
       "    </tr>\n",
       "    <tr>\n",
       "      <td>mannwhitneyu_p(pc/pp)</td>\n",
       "      <td>0.285928</td>\n",
       "      <td>5.396542e-16</td>\n",
       "      <td>0.017380</td>\n",
       "      <td>1.977464e-09</td>\n",
       "      <td>3.733704e-10</td>\n",
       "    </tr>\n",
       "    <tr>\n",
       "      <td>mannwhitneyu_p(pc/cc)</td>\n",
       "      <td>0.000002</td>\n",
       "      <td>4.600751e-41</td>\n",
       "      <td>0.061505</td>\n",
       "      <td>5.107397e-37</td>\n",
       "      <td>2.095433e-35</td>\n",
       "    </tr>\n",
       "    <tr>\n",
       "      <td>mannwhitneyu_p(pp/cc)</td>\n",
       "      <td>0.000454</td>\n",
       "      <td>8.470283e-74</td>\n",
       "      <td>0.705826</td>\n",
       "      <td>2.205567e-58</td>\n",
       "      <td>2.630086e-59</td>\n",
       "    </tr>\n",
       "    <tr>\n",
       "      <td>mannwhitneyu_es(pc/pp)</td>\n",
       "      <td>0.021847</td>\n",
       "      <td>-1.678165e-01</td>\n",
       "      <td>0.049266</td>\n",
       "      <td>-1.242673e-01</td>\n",
       "      <td>-1.297587e-01</td>\n",
       "    </tr>\n",
       "    <tr>\n",
       "      <td>mannwhitneyu_es(pc/cc)</td>\n",
       "      <td>0.104633</td>\n",
       "      <td>2.953264e-01</td>\n",
       "      <td>0.041149</td>\n",
       "      <td>2.797285e-01</td>\n",
       "      <td>2.732637e-01</td>\n",
       "    </tr>\n",
       "    <tr>\n",
       "      <td>mannwhitneyu_es(pp/cc)</td>\n",
       "      <td>0.090877</td>\n",
       "      <td>4.762594e-01</td>\n",
       "      <td>-0.009894</td>\n",
       "      <td>4.221722e-01</td>\n",
       "      <td>4.256048e-01</td>\n",
       "    </tr>\n",
       "  </tbody>\n",
       "</table>\n",
       "</div>"
      ],
      "text/plain": [
       "                                     GED  EuclideanDist   CanberraDist  \\\n",
       "tests                                                                    \n",
       "mean(pc)                        0.965312   7.548754e-01       0.856129   \n",
       "mean(pp)                        0.964346   7.755214e-01       0.852106   \n",
       "mean(cc)                        0.961258   7.178270e-01       0.851019   \n",
       "std(pc)                         0.017584   5.692029e-02       0.043405   \n",
       "std(pp)                         0.017970   5.705367e-02       0.045287   \n",
       "std(cc)                         0.017316   4.716109e-02       0.036998   \n",
       "mannwhitneyu_stats(pc/pp)  649377.500000   5.057660e+05  670139.000000   \n",
       "mannwhitneyu_stats(pc/cc)  495672.500000   6.020100e+05  460271.000000   \n",
       "mannwhitneyu_stats(pp/cc)  283496.000000   3.994730e+05  253170.000000   \n",
       "mannwhitneyu_p(pc/pp)           0.285928   5.396542e-16       0.017380   \n",
       "mannwhitneyu_p(pc/cc)           0.000002   4.600751e-41       0.061505   \n",
       "mannwhitneyu_p(pp/cc)           0.000454   8.470283e-74       0.705826   \n",
       "mannwhitneyu_es(pc/pp)          0.021847  -1.678165e-01       0.049266   \n",
       "mannwhitneyu_es(pc/cc)          0.104633   2.953264e-01       0.041149   \n",
       "mannwhitneyu_es(pp/cc)          0.090877   4.762594e-01      -0.009894   \n",
       "\n",
       "                            PearsonDist  SpearmanDist  \n",
       "tests                                                  \n",
       "mean(pc)                   6.637633e-01  7.570091e-01  \n",
       "mean(pp)                   6.845760e-01  7.723106e-01  \n",
       "mean(cc)                   6.141653e-01  7.209150e-01  \n",
       "std(pc)                    8.279136e-02  6.011911e-02  \n",
       "std(pp)                    8.222286e-02  5.838152e-02  \n",
       "std(cc)                    6.646545e-02  4.834957e-02  \n",
       "mannwhitneyu_stats(pc/pp)  5.387410e+05  5.345830e+05  \n",
       "mannwhitneyu_stats(pc/cc)  5.933120e+05  5.897070e+05  \n",
       "mannwhitneyu_stats(pp/cc)  3.831960e+05  3.842290e+05  \n",
       "mannwhitneyu_p(pc/pp)      1.977464e-09  3.733704e-10  \n",
       "mannwhitneyu_p(pc/cc)      5.107397e-37  2.095433e-35  \n",
       "mannwhitneyu_p(pp/cc)      2.205567e-58  2.630086e-59  \n",
       "mannwhitneyu_es(pc/pp)    -1.242673e-01 -1.297587e-01  \n",
       "mannwhitneyu_es(pc/cc)     2.797285e-01  2.732637e-01  \n",
       "mannwhitneyu_es(pp/cc)     4.221722e-01  4.256048e-01  "
      ]
     },
     "execution_count": 76,
     "metadata": {},
     "output_type": "execute_result"
    }
   ],
   "source": [
    "tests_filter = [x for x in tests if 'mean' in x or 'std' in x or 'mannwhitneyu' in x]\n",
    "df_test.loc[tests_filter]"
   ]
  },
  {
   "cell_type": "code",
   "execution_count": 81,
   "metadata": {},
   "outputs": [
    {
     "data": {
      "image/png": "[encoded data removed]",
      "text/plain": [
       "<Figure size 1080x360 with 5 Axes>"
      ]
     },
     "metadata": {
      "needs_background": "light"
     },
     "output_type": "display_data"
    }
   ],
   "source": [
    "# Box plot\n",
    "plt.figure(figsize=(15, 5))\n",
    "columns = ['GED', 'EuclideanDist', 'CanberraDist', 'PearsonDist', 'SpearmanDist']\n",
    "for i in range(len(columns)):\n",
    "    plt.subplot(1, 5, i+1)\n",
    "    params = dict(data=df_dist, x='type', y=columns[i])\n",
    "    sns.boxplot(palette='vlag', linewidth=2, **params)\n",
    "    plt.title(columns[i])\n",
    "plt.tight_layout(pad=1.0)\n",
    "plt.show()"
   ]
  },
  {
   "cell_type": "code",
   "execution_count": null,
   "metadata": {},
   "outputs": [],
   "source": []
  }
 ],
 "metadata": {
  "kernelspec": {
   "display_name": "Python 3",
   "language": "python",
   "name": "python3"
  },
  "language_info": {
   "codemirror_mode": {
    "name": "ipython",
    "version": 3
   },
   "file_extension": ".py",
   "mimetype": "text/x-python",
   "name": "python",
   "nbconvert_exporter": "python",
   "pygments_lexer": "ipython3",
   "version": "3.7.4"
  }
 },
 "nbformat": 4,
 "nbformat_minor": 2
}
